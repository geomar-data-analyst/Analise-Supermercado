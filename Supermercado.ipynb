{
 "cells": [
  {
   "cell_type": "markdown",
   "id": "d58a4098-f496-42bb-89bd-8e621753d4e5",
   "metadata": {},
   "source": [
    "## Análise de um dataset de um supermercado"
   ]
  },
  {
   "cell_type": "markdown",
   "id": "0f1b3d1b-0371-4abc-9ec6-544ce631d395",
   "metadata": {},
   "source": [
    "🛒 Descrição do Dataset: supermercado.csv\r\n",
    "O dataset supermercado.csv reúne informações essenciais sobre transações realizadas em um supermercado, oferecendo uma base rica para análises de comportamento de consumo, desempenho de vendas e gestão operacional. Ele é ideal para estudos de inteligência de mercado, precificação, segmentação de clientes e otimização de estoque.\r\n",
    "📊 Principais características:\r\n",
    "- Período de coleta: Dados registrados ao longo de um intervalo temporal (diário, semanal ou mensal, dependendo da estrutura).\r\n",
    "- Itens vendidos: Nome dos produtos, categorias, quantidade e preço unitário.\r\n",
    "- Informações de venda: Data da compra, valor total da transação, forma de pagamento.\r\n",
    "- Dados do cliente (se disponíveis): ID do cliente, faixa etária, gênero, fidelidade.\r\n",
    "- Localização (se aplicável): Filial ou setor do supermercado onde a venda foi realizada.\r\n",
    "🎯 Possibilidades de análise:\r\n",
    "- Tendências de consumo por período ou categoria de produto.\r\n",
    "- Produtos com maior e menor giro.\r\n",
    "- Análise de ticket médio por cliente ou por dia.\r\n",
    "- Identificação de padrõe dessas ideias?\r\n"
   ]
  },
  {
   "cell_type": "markdown",
   "id": "4b3ba21f-145a-46cc-8dfa-62bc26b03097",
   "metadata": {},
   "source": [
    "🛒 Descrição do Dataset: supermercado.csv\r\n",
    "O dataset supermercado.csv contém registros detalhados de transações realizadas em diferentes filiais de um supermercado, oferecendo uma base robusta para análises comerciais, operacionais e de comportamento do consumidor.\r\n",
    "📁 Estrutura das Colunas:\r\n",
    "| Coluna | Descrição | \r\n",
    "| ID_Transacao | Identificador único de cada compra realizada. | \r\n",
    "| Data | Data em que a transação ocorreu. | \r\n",
    "| Hora | Horário exato da compra. | \r\n",
    "| Filial | Loja onde a compra foi feita (São Luís, Imperatriz, Teresina, Belém). | \r\n",
    "| Tipo_Cliente | Classificação do cliente: Membro ou Normal. | \r\n",
    "| Forma_Pagamento | Método utilizado para pagamento (ex: Dinheiro, Cartão, Pix). | \r\n",
    "| Produto | Nome do item comprado. | \r\n",
    "| Categoria | Categoria do produto (ex: Alimentos, Higiene, Bebidas). | \r\n",
    "| Preco_Unitario | Valor por unidade do produto. | \r\n",
    "| Quantidade | Número de unidades adquiridas. | \r\n",
    "| Custo | Valor total dos itens comprados (Preço Unitário × Quantidade). | \r\n",
    "| Imposto_ICMS | Imposto aplicado sobre o custo (18%). | \r\n",
    "| Total | Valor final da compra, incluindo o imposto. | \r\n",
    "| Avaliacao_Cliente | Nota de satisfação dada pelo cliente (escala de 1 a 10). | \r\n",
    "\r\n",
    "\r\n",
    "\r\n"
   ]
  },
  {
   "cell_type": "markdown",
   "id": "ba8c01c4-8273-4b24-9f3a-bc77e8f68cf2",
   "metadata": {},
   "source": [
    "## Importação da Biblioteca"
   ]
  },
  {
   "cell_type": "code",
   "execution_count": 1,
   "id": "22be3558-e45a-4c9c-a5b9-86eb042ad2f6",
   "metadata": {},
   "outputs": [],
   "source": [
    "import pandas as pd"
   ]
  },
  {
   "cell_type": "code",
   "execution_count": 2,
   "id": "c61678cb-4179-4bcc-b363-99088ccb0d62",
   "metadata": {},
   "outputs": [],
   "source": [
    "df_supermercado = pd.read_csv('supermercado.csv')"
   ]
  },
  {
   "cell_type": "code",
   "execution_count": 3,
   "id": "c798e15f-35e6-4f0f-a1bc-44c5e5a197e4",
   "metadata": {},
   "outputs": [
    {
     "data": {
      "text/html": [
       "<div>\n",
       "<style scoped>\n",
       "    .dataframe tbody tr th:only-of-type {\n",
       "        vertical-align: middle;\n",
       "    }\n",
       "\n",
       "    .dataframe tbody tr th {\n",
       "        vertical-align: top;\n",
       "    }\n",
       "\n",
       "    .dataframe thead th {\n",
       "        text-align: right;\n",
       "    }\n",
       "</style>\n",
       "<table border=\"1\" class=\"dataframe\">\n",
       "  <thead>\n",
       "    <tr style=\"text-align: right;\">\n",
       "      <th></th>\n",
       "      <th>ID_Transacao</th>\n",
       "      <th>Data</th>\n",
       "      <th>Hora</th>\n",
       "      <th>Filial</th>\n",
       "      <th>Tipo_Cliente</th>\n",
       "      <th>Forma_Pagamento</th>\n",
       "      <th>Produto</th>\n",
       "      <th>Categoria</th>\n",
       "      <th>Preco_Unitario</th>\n",
       "      <th>Quantidade</th>\n",
       "      <th>Custo</th>\n",
       "      <th>Imposto_ICMS</th>\n",
       "      <th>Total</th>\n",
       "      <th>Avaliacao_Cliente</th>\n",
       "    </tr>\n",
       "  </thead>\n",
       "  <tbody>\n",
       "    <tr>\n",
       "      <th>0</th>\n",
       "      <td>TR001</td>\n",
       "      <td>01/01/2024</td>\n",
       "      <td>10:15</td>\n",
       "      <td>São Luís</td>\n",
       "      <td>Normal</td>\n",
       "      <td>Cartão de Débito</td>\n",
       "      <td>Arroz</td>\n",
       "      <td>Alimentos</td>\n",
       "      <td>5.50</td>\n",
       "      <td>2</td>\n",
       "      <td>11.00</td>\n",
       "      <td>1.98</td>\n",
       "      <td>12.98</td>\n",
       "      <td>8</td>\n",
       "    </tr>\n",
       "    <tr>\n",
       "      <th>1</th>\n",
       "      <td>TR002</td>\n",
       "      <td>01/01/2024</td>\n",
       "      <td>11:30</td>\n",
       "      <td>Imperatriz</td>\n",
       "      <td>Membro</td>\n",
       "      <td>Cartão de Crédito</td>\n",
       "      <td>Sabonete</td>\n",
       "      <td>Higiene</td>\n",
       "      <td>3.25</td>\n",
       "      <td>4</td>\n",
       "      <td>13.00</td>\n",
       "      <td>2.34</td>\n",
       "      <td>15.34</td>\n",
       "      <td>9</td>\n",
       "    </tr>\n",
       "    <tr>\n",
       "      <th>2</th>\n",
       "      <td>TR003</td>\n",
       "      <td>01/01/2024</td>\n",
       "      <td>12:00</td>\n",
       "      <td>Teresina</td>\n",
       "      <td>Normal</td>\n",
       "      <td>Dinheiro</td>\n",
       "      <td>Cerveja</td>\n",
       "      <td>Bebidas</td>\n",
       "      <td>4.50</td>\n",
       "      <td>6</td>\n",
       "      <td>27.00</td>\n",
       "      <td>4.86</td>\n",
       "      <td>31.86</td>\n",
       "      <td>7</td>\n",
       "    </tr>\n",
       "    <tr>\n",
       "      <th>3</th>\n",
       "      <td>TR004</td>\n",
       "      <td>01/01/2024</td>\n",
       "      <td>13:45</td>\n",
       "      <td>Belém</td>\n",
       "      <td>Membro</td>\n",
       "      <td>Cartão de Crédito</td>\n",
       "      <td>Detergente</td>\n",
       "      <td>Limpeza</td>\n",
       "      <td>2.75</td>\n",
       "      <td>3</td>\n",
       "      <td>8.25</td>\n",
       "      <td>1.49</td>\n",
       "      <td>9.74</td>\n",
       "      <td>10</td>\n",
       "    </tr>\n",
       "    <tr>\n",
       "      <th>4</th>\n",
       "      <td>TR005</td>\n",
       "      <td>01/01/2024</td>\n",
       "      <td>14:20</td>\n",
       "      <td>São Luís</td>\n",
       "      <td>Normal</td>\n",
       "      <td>Dinheiro</td>\n",
       "      <td>Leite</td>\n",
       "      <td>Alimentos</td>\n",
       "      <td>4.00</td>\n",
       "      <td>1</td>\n",
       "      <td>4.00</td>\n",
       "      <td>0.72</td>\n",
       "      <td>4.72</td>\n",
       "      <td>6</td>\n",
       "    </tr>\n",
       "    <tr>\n",
       "      <th>...</th>\n",
       "      <td>...</td>\n",
       "      <td>...</td>\n",
       "      <td>...</td>\n",
       "      <td>...</td>\n",
       "      <td>...</td>\n",
       "      <td>...</td>\n",
       "      <td>...</td>\n",
       "      <td>...</td>\n",
       "      <td>...</td>\n",
       "      <td>...</td>\n",
       "      <td>...</td>\n",
       "      <td>...</td>\n",
       "      <td>...</td>\n",
       "      <td>...</td>\n",
       "    </tr>\n",
       "    <tr>\n",
       "      <th>495</th>\n",
       "      <td>TR496</td>\n",
       "      <td>19/02/2024</td>\n",
       "      <td>14:15</td>\n",
       "      <td>Belém</td>\n",
       "      <td>Membro</td>\n",
       "      <td>Dinheiro</td>\n",
       "      <td>Ovo</td>\n",
       "      <td>Alimentos</td>\n",
       "      <td>1.20</td>\n",
       "      <td>12</td>\n",
       "      <td>14.40</td>\n",
       "      <td>2.59</td>\n",
       "      <td>16.99</td>\n",
       "      <td>10</td>\n",
       "    </tr>\n",
       "    <tr>\n",
       "      <th>496</th>\n",
       "      <td>TR497</td>\n",
       "      <td>19/02/2024</td>\n",
       "      <td>15:55</td>\n",
       "      <td>São Luís</td>\n",
       "      <td>Normal</td>\n",
       "      <td>Cartão de Débito</td>\n",
       "      <td>Macarrão</td>\n",
       "      <td>Alimentos</td>\n",
       "      <td>3.75</td>\n",
       "      <td>3</td>\n",
       "      <td>11.25</td>\n",
       "      <td>2.03</td>\n",
       "      <td>13.28</td>\n",
       "      <td>7</td>\n",
       "    </tr>\n",
       "    <tr>\n",
       "      <th>497</th>\n",
       "      <td>TR498</td>\n",
       "      <td>19/02/2024</td>\n",
       "      <td>16:30</td>\n",
       "      <td>Imperatriz</td>\n",
       "      <td>Membro</td>\n",
       "      <td>Cartão de Crédito</td>\n",
       "      <td>Arroz</td>\n",
       "      <td>Alimentos</td>\n",
       "      <td>5.50</td>\n",
       "      <td>4</td>\n",
       "      <td>22.00</td>\n",
       "      <td>3.96</td>\n",
       "      <td>25.96</td>\n",
       "      <td>9</td>\n",
       "    </tr>\n",
       "    <tr>\n",
       "      <th>498</th>\n",
       "      <td>TR499</td>\n",
       "      <td>19/02/2024</td>\n",
       "      <td>17:15</td>\n",
       "      <td>Teresina</td>\n",
       "      <td>Normal</td>\n",
       "      <td>Dinheiro</td>\n",
       "      <td>Detergente</td>\n",
       "      <td>Limpeza</td>\n",
       "      <td>2.75</td>\n",
       "      <td>2</td>\n",
       "      <td>5.50</td>\n",
       "      <td>0.99</td>\n",
       "      <td>6.49</td>\n",
       "      <td>8</td>\n",
       "    </tr>\n",
       "    <tr>\n",
       "      <th>499</th>\n",
       "      <td>TR500</td>\n",
       "      <td>19/02/2024</td>\n",
       "      <td>18:00</td>\n",
       "      <td>Belém</td>\n",
       "      <td>Membro</td>\n",
       "      <td>Cartão de Débito</td>\n",
       "      <td>Pão de Forma</td>\n",
       "      <td>Alimentos</td>\n",
       "      <td>6.00</td>\n",
       "      <td>1</td>\n",
       "      <td>6.00</td>\n",
       "      <td>1.08</td>\n",
       "      <td>7.08</td>\n",
       "      <td>9</td>\n",
       "    </tr>\n",
       "  </tbody>\n",
       "</table>\n",
       "<p>500 rows × 14 columns</p>\n",
       "</div>"
      ],
      "text/plain": [
       "    ID_Transacao        Data   Hora      Filial Tipo_Cliente  \\\n",
       "0          TR001  01/01/2024  10:15    São Luís       Normal   \n",
       "1          TR002  01/01/2024  11:30  Imperatriz       Membro   \n",
       "2          TR003  01/01/2024  12:00    Teresina       Normal   \n",
       "3          TR004  01/01/2024  13:45       Belém       Membro   \n",
       "4          TR005  01/01/2024  14:20    São Luís       Normal   \n",
       "..           ...         ...    ...         ...          ...   \n",
       "495        TR496  19/02/2024  14:15       Belém       Membro   \n",
       "496        TR497  19/02/2024  15:55    São Luís       Normal   \n",
       "497        TR498  19/02/2024  16:30  Imperatriz       Membro   \n",
       "498        TR499  19/02/2024  17:15    Teresina       Normal   \n",
       "499        TR500  19/02/2024  18:00       Belém       Membro   \n",
       "\n",
       "       Forma_Pagamento       Produto  Categoria  Preco_Unitario  Quantidade  \\\n",
       "0     Cartão de Débito         Arroz  Alimentos            5.50           2   \n",
       "1    Cartão de Crédito      Sabonete    Higiene            3.25           4   \n",
       "2             Dinheiro       Cerveja    Bebidas            4.50           6   \n",
       "3    Cartão de Crédito    Detergente    Limpeza            2.75           3   \n",
       "4             Dinheiro         Leite  Alimentos            4.00           1   \n",
       "..                 ...           ...        ...             ...         ...   \n",
       "495           Dinheiro           Ovo  Alimentos            1.20          12   \n",
       "496   Cartão de Débito      Macarrão  Alimentos            3.75           3   \n",
       "497  Cartão de Crédito         Arroz  Alimentos            5.50           4   \n",
       "498           Dinheiro    Detergente    Limpeza            2.75           2   \n",
       "499   Cartão de Débito  Pão de Forma  Alimentos            6.00           1   \n",
       "\n",
       "     Custo  Imposto_ICMS  Total  Avaliacao_Cliente  \n",
       "0    11.00          1.98  12.98                  8  \n",
       "1    13.00          2.34  15.34                  9  \n",
       "2    27.00          4.86  31.86                  7  \n",
       "3     8.25          1.49   9.74                 10  \n",
       "4     4.00          0.72   4.72                  6  \n",
       "..     ...           ...    ...                ...  \n",
       "495  14.40          2.59  16.99                 10  \n",
       "496  11.25          2.03  13.28                  7  \n",
       "497  22.00          3.96  25.96                  9  \n",
       "498   5.50          0.99   6.49                  8  \n",
       "499   6.00          1.08   7.08                  9  \n",
       "\n",
       "[500 rows x 14 columns]"
      ]
     },
     "execution_count": 3,
     "metadata": {},
     "output_type": "execute_result"
    }
   ],
   "source": [
    "df_supermercado"
   ]
  },
  {
   "cell_type": "markdown",
   "id": "36615198-6750-4ec6-89d8-d356d8141117",
   "metadata": {},
   "source": [
    "## Análises de vendas por filial 📊"
   ]
  },
  {
   "cell_type": "code",
   "execution_count": 5,
   "id": "ea6a4847-74b8-4867-bb86-cd26166c829e",
   "metadata": {},
   "outputs": [
    {
     "data": {
      "image/png": "[encoded data removed]",
      "text/plain": [
       "<Figure size 800x500 with 1 Axes>"
      ]
     },
     "metadata": {},
     "output_type": "display_data"
    }
   ],
   "source": [
    "import matplotlib.pyplot as plt\n",
    "import seaborn as sns\n",
    "\n",
    "# Total de vendas por filial\n",
    "vendas_filial = df_supermercado.groupby('Filial')['Total'].sum().sort_values()\n",
    "\n",
    "# Gráfico\n",
    "plt.figure(figsize=(8,5))\n",
    "sns.barplot(x=vendas_filial.values, y=vendas_filial.index, palette='viridis')\n",
    "plt.title(\"Total de Vendas por Filial\")\n",
    "plt.xlabel(\"R$ Total\")\n",
    "plt.ylabel(\"Filial\")\n",
    "plt.tight_layout()\n",
    "plt.show()"
   ]
  },
  {
   "cell_type": "markdown",
   "id": "df5bff46-c860-40d4-9392-6b676b5bb490",
   "metadata": {},
   "source": [
    "## Avaliação média por tipo de cliente 📈"
   ]
  },
  {
   "cell_type": "code",
   "execution_count": 6,
   "id": "edc19a8f-21ef-4ddc-ab9c-b96d37e64af3",
   "metadata": {},
   "outputs": [
    {
     "data": {
      "image/png": "[encoded data removed]",
      "text/plain": [
       "<Figure size 600x400 with 1 Axes>"
      ]
     },
     "metadata": {},
     "output_type": "display_data"
    }
   ],
   "source": [
    "avaliacao_media = df_supermercado.groupby('Tipo_Cliente')['Avaliacao_Cliente'].mean()\n",
    "\n",
    "# Gráfico\n",
    "plt.figure(figsize=(6,4))\n",
    "sns.barplot(x=avaliacao_media.index, y=avaliacao_media.values, palette='coolwarm')\n",
    "plt.title(\"Avaliação Média por Tipo de Cliente\")\n",
    "plt.ylabel(\"Nota Média\")\n",
    "plt.xlabel(\"Tipo de Cliente\")\n",
    "plt.ylim(0, 10)\n",
    "plt.tight_layout()\n",
    "plt.show()"
   ]
  },
  {
   "cell_type": "markdown",
   "id": "c00e91a8-864f-41e6-9b8e-1ddd4ac44676",
   "metadata": {},
   "source": [
    "## Produtos mais vendidos 💡"
   ]
  },
  {
   "cell_type": "code",
   "execution_count": 7,
   "id": "1ed85eba-55e7-47e1-ba65-ef2153b72e54",
   "metadata": {},
   "outputs": [
    {
     "data": {
      "image/png": "[encoded data removed]",
      "text/plain": [
       "<Figure size 1000x600 with 1 Axes>"
      ]
     },
     "metadata": {},
     "output_type": "display_data"
    }
   ],
   "source": [
    "produtos_top = df_supermercado.groupby('Produto')['Quantidade'].sum().sort_values(ascending=False).head(10)\n",
    "\n",
    "plt.figure(figsize=(10,6))\n",
    "sns.barplot(x=produtos_top.values, y=produtos_top.index, palette='magma')\n",
    "plt.title(\"Top 10 Produtos Mais Vendidos\")\n",
    "plt.xlabel(\"Quantidade Vendida\")\n",
    "plt.ylabel(\"Produto\")\n",
    "plt.tight_layout()\n",
    "plt.show()"
   ]
  },
  {
   "cell_type": "markdown",
   "id": "cee7be6c-ff4d-4db5-a91a-96e72dfe262d",
   "metadata": {},
   "source": [
    "## Desempenho por filial 🏬"
   ]
  },
  {
   "cell_type": "code",
   "execution_count": 8,
   "id": "076f6e93-2c03-4c54-aa82-e31007bd5d62",
   "metadata": {},
   "outputs": [],
   "source": [
    "# Receita total por filial\n",
    "receita_por_filial = df_supermercado.groupby('Filial')['Total'].sum().sort_values(ascending=False)\n",
    "\n",
    "# Avaliação média por filial\n",
    "avaliacao_por_filial = df_supermercado.groupby('Filial')['Avaliacao_Cliente'].mean()"
   ]
  },
  {
   "cell_type": "code",
   "execution_count": 9,
   "id": "7a095bbf-4fae-4b69-acb5-39358dc823ef",
   "metadata": {},
   "outputs": [
    {
     "data": {
      "text/plain": [
       "Filial\n",
       "Imperatriz    2102.41\n",
       "Belém         2027.17\n",
       "Teresina      1841.07\n",
       "São Luís      1748.71\n",
       "Name: Total, dtype: float64"
      ]
     },
     "execution_count": 9,
     "metadata": {},
     "output_type": "execute_result"
    }
   ],
   "source": [
    "receita_por_filial"
   ]
  },
  {
   "cell_type": "code",
   "execution_count": 10,
   "id": "7065635c-045b-4b9a-a8d0-46826d60e6a5",
   "metadata": {},
   "outputs": [
    {
     "data": {
      "text/plain": [
       "Filial\n",
       "Belém         8.632\n",
       "Imperatriz    8.632\n",
       "São Luís      7.984\n",
       "Teresina      7.600\n",
       "Name: Avaliacao_Cliente, dtype: float64"
      ]
     },
     "execution_count": 10,
     "metadata": {},
     "output_type": "execute_result"
    }
   ],
   "source": [
    "avaliacao_por_filial"
   ]
  },
  {
   "cell_type": "markdown",
   "id": "b71f78f3-8a09-4486-8822-8b0ba827c67f",
   "metadata": {},
   "source": [
    "## Vendas por hora e dias da semana ⏰"
   ]
  },
  {
   "cell_type": "code",
   "execution_count": 14,
   "id": "38092484-fb56-4801-9198-787447ced91f",
   "metadata": {},
   "outputs": [],
   "source": [
    "# Criar coluna de hora em formato inteiro\n",
    "df_supermercado['Hora_Int'] = pd.to_datetime(df_supermercado['Hora'], format='%H:%M').dt.hour\n",
    "\n",
    "# Vendas por hora\n",
    "vendas_por_hora = df_supermercado.groupby('Hora_Int')['Total'].sum()\n",
    "\n",
    "# Vendas por dia da semana\n",
    "vendas_por_dia = df_supermercado.groupby('Data')['Total'].sum().reindex([\n",
    "    'Monday', 'Tuesday', 'Wednesday', 'Thursday', 'Friday', 'Saturday', 'Sunday'\n",
    "])"
   ]
  },
  {
   "cell_type": "code",
   "execution_count": null,
   "id": "c11c6343-2121-4b8a-bb30-22fbb522cdd6",
   "metadata": {},
   "outputs": [],
   "source": []
  },
  {
   "cell_type": "code",
   "execution_count": 15,
   "id": "5db200bb-a056-4b91-bc2a-b11c07bdce81",
   "metadata": {},
   "outputs": [
    {
     "data": {
      "text/plain": [
       "Hora_Int\n",
       "9     723.71\n",
       "10    743.37\n",
       "11    727.73\n",
       "12    807.61\n",
       "13    737.39\n",
       "14    802.89\n",
       "15    683.13\n",
       "16    917.22\n",
       "17    675.93\n",
       "18    893.30\n",
       "19      7.08\n",
       "Name: Total, dtype: float64"
      ]
     },
     "execution_count": 15,
     "metadata": {},
     "output_type": "execute_result"
    }
   ],
   "source": [
    "vendas_por_hora"
   ]
  },
  {
   "cell_type": "code",
   "execution_count": 16,
   "id": "9d1dbc09-44e1-4ce5-8d3c-fd43b2958292",
   "metadata": {},
   "outputs": [
    {
     "data": {
      "text/plain": [
       "Data\n",
       "Monday      NaN\n",
       "Tuesday     NaN\n",
       "Wednesday   NaN\n",
       "Thursday    NaN\n",
       "Friday      NaN\n",
       "Saturday    NaN\n",
       "Sunday      NaN\n",
       "Name: Total, dtype: float64"
      ]
     },
     "execution_count": 16,
     "metadata": {},
     "output_type": "execute_result"
    }
   ],
   "source": [
    "vendas_por_dia"
   ]
  },
  {
   "cell_type": "markdown",
   "id": "b8656ff5-832a-4919-914b-084af14c4ba4",
   "metadata": {},
   "source": [
    "## Comparação entre clientes membros e normais 👥"
   ]
  },
  {
   "cell_type": "code",
   "execution_count": 17,
   "id": "3ae6135c-7fec-47eb-ba67-e9c3b74056fe",
   "metadata": {},
   "outputs": [],
   "source": [
    "# Total gasto por tipo de cliente\n",
    "gasto_por_tipo = df_supermercado.groupby('Tipo_Cliente')['Total'].sum()\n",
    "\n",
    "# Quantidade média comprada\n",
    "quantidade_media = df_supermercado.groupby('Tipo_Cliente')['Quantidade'].mean()\n",
    "\n",
    "# Avaliação média\n",
    "avaliacao_media = df_supermercado.groupby('Tipo_Cliente')['Avaliacao_Cliente'].mean()"
   ]
  },
  {
   "cell_type": "code",
   "execution_count": 18,
   "id": "f9bd274a-6862-48ee-a402-2ee4414784fc",
   "metadata": {},
   "outputs": [
    {
     "data": {
      "text/plain": [
       "Tipo_Cliente\n",
       "Membro    3956.17\n",
       "Normal    3763.19\n",
       "Name: Total, dtype: float64"
      ]
     },
     "execution_count": 18,
     "metadata": {},
     "output_type": "execute_result"
    }
   ],
   "source": [
    "gasto_por_tipo"
   ]
  },
  {
   "cell_type": "code",
   "execution_count": 19,
   "id": "0b615789-57d9-4ce6-9d64-3a054a78c5d5",
   "metadata": {},
   "outputs": [
    {
     "data": {
      "text/plain": [
       "Tipo_Cliente\n",
       "Membro    3.300813\n",
       "Normal    2.728346\n",
       "Name: Quantidade, dtype: float64"
      ]
     },
     "execution_count": 19,
     "metadata": {},
     "output_type": "execute_result"
    }
   ],
   "source": [
    "quantidade_media"
   ]
  },
  {
   "cell_type": "code",
   "execution_count": 20,
   "id": "750c6c0e-92a7-4705-a5bc-089676b0478f",
   "metadata": {},
   "outputs": [
    {
     "data": {
      "text/plain": [
       "Tipo_Cliente\n",
       "Membro    9.284553\n",
       "Normal    7.173228\n",
       "Name: Avaliacao_Cliente, dtype: float64"
      ]
     },
     "execution_count": 20,
     "metadata": {},
     "output_type": "execute_result"
    }
   ],
   "source": [
    "avaliacao_media"
   ]
  },
  {
   "cell_type": "markdown",
   "id": "e13534e1-1fff-4028-a425-a90e2616be95",
   "metadata": {},
   "source": [
    "## Categorias mais lucrativas 📦"
   ]
  },
  {
   "cell_type": "code",
   "execution_count": 21,
   "id": "a1a7f7ad-de01-4fac-8bc5-3e24eb77216b",
   "metadata": {},
   "outputs": [],
   "source": [
    "# Receita por categoria\n",
    "receita_categoria = df_supermercado.groupby('Categoria')['Total'].sum().sort_values(ascending=False)\n",
    "\n",
    "# Margem tributária por categoria\n",
    "imposto_por_categoria = df_supermercado.groupby('Categoria')['Imposto_ICMS'].sum()"
   ]
  },
  {
   "cell_type": "code",
   "execution_count": 22,
   "id": "52bab440-eb5c-4458-bf67-6172e1247c45",
   "metadata": {},
   "outputs": [
    {
     "data": {
      "text/plain": [
       "Categoria\n",
       "Alimentos            4398.21\n",
       "Bebidas              1465.56\n",
       "Limpeza               907.30\n",
       "Higiene               640.31\n",
       "Eletrônicos           177.00\n",
       "Casa & Utensílios     130.98\n",
       "Name: Total, dtype: float64"
      ]
     },
     "execution_count": 22,
     "metadata": {},
     "output_type": "execute_result"
    }
   ],
   "source": [
    "receita_categoria"
   ]
  },
  {
   "cell_type": "code",
   "execution_count": 23,
   "id": "f2597701-7db4-4a26-add2-e013bdb21513",
   "metadata": {},
   "outputs": [
    {
     "data": {
      "text/plain": [
       "Categoria\n",
       "Alimentos            671.01\n",
       "Bebidas              223.56\n",
       "Casa & Utensílios     19.98\n",
       "Eletrônicos           27.00\n",
       "Higiene               97.71\n",
       "Limpeza              138.45\n",
       "Name: Imposto_ICMS, dtype: float64"
      ]
     },
     "execution_count": 23,
     "metadata": {},
     "output_type": "execute_result"
    }
   ],
   "source": [
    "imposto_por_categoria"
   ]
  },
  {
   "cell_type": "markdown",
   "id": "104595eb-5e62-48c0-9a4a-475d2f495ca3",
   "metadata": {},
   "source": [
    "## Impacto do imposto ICMS 💰"
   ]
  },
  {
   "cell_type": "code",
   "execution_count": 24,
   "id": "e9d5c173-22c1-4b48-8d7d-759c46772ca5",
   "metadata": {},
   "outputs": [],
   "source": [
    "# Total de imposto recolhido\n",
    "total_imposto = df_supermercado['Imposto_ICMS'].sum()\n",
    "\n",
    "# Percentual do imposto sobre a receita\n",
    "percentual_imposto = (total_imposto / df_supermercado['Total'].sum()) * 100"
   ]
  },
  {
   "cell_type": "code",
   "execution_count": 25,
   "id": "e83d3c3c-e65c-46a5-b911-2b2a53dfb998",
   "metadata": {},
   "outputs": [
    {
     "data": {
      "text/plain": [
       "1177.71"
      ]
     },
     "execution_count": 25,
     "metadata": {},
     "output_type": "execute_result"
    }
   ],
   "source": [
    "total_imposto"
   ]
  },
  {
   "cell_type": "code",
   "execution_count": 26,
   "id": "55254679-fa0d-4801-954a-7d7b3e30ff43",
   "metadata": {},
   "outputs": [
    {
     "data": {
      "text/plain": [
       "15.25657567466733"
      ]
     },
     "execution_count": 26,
     "metadata": {},
     "output_type": "execute_result"
    }
   ],
   "source": [
    "percentual_imposto"
   ]
  },
  {
   "cell_type": "markdown",
   "id": "8c36f120-4db9-4c89-95ae-597c4960fe46",
   "metadata": {},
   "source": [
    "## ICMS total por filial 🧾"
   ]
  },
  {
   "cell_type": "code",
   "execution_count": null,
   "id": "f665a56d-f59d-4d84-b536-38c41e298a71",
   "metadata": {},
   "outputs": [],
   "source": []
  },
  {
   "cell_type": "code",
   "execution_count": 30,
   "id": "70bd8f20-d063-42f8-b057-4579ff64333e",
   "metadata": {},
   "outputs": [
    {
     "data": {
      "text/plain": [
       "Filial\n",
       "Belém         309.27\n",
       "Imperatriz    320.76\n",
       "São Luís      266.81\n",
       "Teresina      280.87\n",
       "Name: Imposto_ICMS, dtype: float64"
      ]
     },
     "execution_count": 30,
     "metadata": {},
     "output_type": "execute_result"
    }
   ],
   "source": [
    "df_supermercado.groupby('Filial')['Imposto_ICMS'].sum()"
   ]
  },
  {
   "cell_type": "markdown",
   "id": "2fec01cb-b9b0-4abd-a213-b881200b455a",
   "metadata": {},
   "source": [
    "## Avaliação média por filial 📈"
   ]
  },
  {
   "cell_type": "code",
   "execution_count": 34,
   "id": "a6491c40-b0b2-4583-9e57-36a80485133e",
   "metadata": {},
   "outputs": [
    {
     "data": {
      "text/plain": [
       "Filial\n",
       "Teresina      7.600\n",
       "São Luís      7.984\n",
       "Belém         8.632\n",
       "Imperatriz    8.632\n",
       "Name: Avaliacao_Cliente, dtype: float64"
      ]
     },
     "execution_count": 34,
     "metadata": {},
     "output_type": "execute_result"
    }
   ],
   "source": [
    "df_supermercado.groupby('Filial')['Avaliacao_Cliente'].mean().sort_values()"
   ]
  },
  {
   "cell_type": "markdown",
   "id": "f18d873c-cd96-4740-ab1b-1cbc41040bdd",
   "metadata": {},
   "source": [
    "## Preferência de método de pagamento 💳"
   ]
  },
  {
   "cell_type": "code",
   "execution_count": 36,
   "id": "49065277-558d-44ec-88f5-f3f638fa0b86",
   "metadata": {},
   "outputs": [
    {
     "data": {
      "text/plain": [
       "Forma_Pagamento\n",
       "Dinheiro             175\n",
       "Cartão de Crédito    166\n",
       "Cartão de Débito     159\n",
       "Name: count, dtype: int64"
      ]
     },
     "execution_count": 36,
     "metadata": {},
     "output_type": "execute_result"
    }
   ],
   "source": [
    "df_supermercado['Forma_Pagamento'].value_counts()"
   ]
  },
  {
   "cell_type": "markdown",
   "id": "83b810c1-77d6-49af-b05f-bd940796ae95",
   "metadata": {},
   "source": [
    "## Ticket médio por transação 🧮"
   ]
  },
  {
   "cell_type": "code",
   "execution_count": 37,
   "id": "d2bcfc2c-7eb2-4001-a0c8-9b07ff9af5ac",
   "metadata": {},
   "outputs": [
    {
     "name": "stdout",
     "output_type": "stream",
     "text": [
      "Ticket médio: R$ 15.44\n"
     ]
    }
   ],
   "source": [
    "ticket_medio = df_supermercado['Total'].mean()\n",
    "print(f'Ticket médio: R$ {ticket_medio:.2f}')"
   ]
  },
  {
   "cell_type": "markdown",
   "id": "eb4e852b-134f-4c97-8043-a9c17d41e943",
   "metadata": {},
   "source": [
    "## Produtos com maior receitas total 📌"
   ]
  },
  {
   "cell_type": "code",
   "execution_count": 38,
   "id": "f3cfc607-f34a-4f24-95e3-97e355aacb47",
   "metadata": {},
   "outputs": [
    {
     "data": {
      "text/plain": [
       "Produto\n",
       "Carne           1209.50\n",
       "Arroz            726.88\n",
       "Ovo              651.32\n",
       "Refrigerante     591.18\n",
       "Sabão em Pó      548.70\n",
       "Macarrão         469.16\n",
       "Feijão           446.32\n",
       "Cerveja          424.80\n",
       "Leite            387.04\n",
       "Pão de Forma     339.84\n",
       "Name: Total, dtype: float64"
      ]
     },
     "execution_count": 38,
     "metadata": {},
     "output_type": "execute_result"
    }
   ],
   "source": [
    "df_supermercado.groupby('Produto')['Total'].sum().sort_values(ascending=False).head(10)"
   ]
  },
  {
   "cell_type": "markdown",
   "id": "6275725d-27c9-407b-9b43-6b763d85b485",
   "metadata": {},
   "source": [
    "## Margem de imposto por produto 📊"
   ]
  },
  {
   "cell_type": "code",
   "execution_count": 39,
   "id": "98401575-8349-4b81-b71d-ed9345ca1bbb",
   "metadata": {},
   "outputs": [
    {
     "data": {
      "text/plain": [
       "Produto\n",
       "Fio Dental         0.180423\n",
       "Macarrão           0.180257\n",
       "Detergente         0.180255\n",
       "Feijão             0.180252\n",
       "Sabonete           0.180147\n",
       "Pão de Forma       0.180000\n",
       "Refrigerante       0.180000\n",
       "Frango             0.180000\n",
       "Esponja            0.180000\n",
       "Papel Higiênico    0.180000\n",
       "Name: Margem_Imposto, dtype: float64"
      ]
     },
     "execution_count": 39,
     "metadata": {},
     "output_type": "execute_result"
    }
   ],
   "source": [
    "df_supermercado['Margem_Imposto'] = df_supermercado['Imposto_ICMS'] / df_supermercado['Custo']\n",
    "df_supermercado.groupby('Produto')['Margem_Imposto'].mean().sort_values(ascending=False).head(10)"
   ]
  },
  {
   "cell_type": "markdown",
   "id": "ba5f3319-d259-4db0-90a1-c0f7e0b03d0e",
   "metadata": {},
   "source": [
    "## Quantidade média vendida por categoria 🧮"
   ]
  },
  {
   "cell_type": "code",
   "execution_count": 41,
   "id": "031f3d8c-ff06-4ec8-87b2-7f17dafbf4e4",
   "metadata": {},
   "outputs": [
    {
     "data": {
      "text/plain": [
       "Categoria\n",
       "Casa & Utensílios    4.000000\n",
       "Bebidas              3.835443\n",
       "Alimentos            3.240418\n",
       "Limpeza              2.106061\n",
       "Higiene              1.841270\n",
       "Eletrônicos          1.000000\n",
       "Name: Quantidade, dtype: float64"
      ]
     },
     "execution_count": 41,
     "metadata": {},
     "output_type": "execute_result"
    }
   ],
   "source": [
    "df_supermercado.groupby('Categoria')['Quantidade'].mean().sort_values(ascending=False)"
   ]
  },
  {
   "cell_type": "markdown",
   "id": "0952a569-c9c0-4400-b913-a9c4f721340b",
   "metadata": {},
   "source": [
    "## Distribuição de avaliações dos clientes 🧍‍♀️"
   ]
  },
  {
   "cell_type": "code",
   "execution_count": 42,
   "id": "2b2cfcd9-6b46-43e2-b513-f1dd0c418f7c",
   "metadata": {},
   "outputs": [
    {
     "data": {
      "text/plain": [
       "<Axes: title={'center': 'Distribuição de Avaliações'}, xlabel='Avaliacao_Cliente'>"
      ]
     },
     "execution_count": 42,
     "metadata": {},
     "output_type": "execute_result"
    },
    {
     "data": {
      "image/png": "[encoded data removed]",
      "text/plain": [
       "<Figure size 640x480 with 1 Axes>"
      ]
     },
     "metadata": {},
     "output_type": "display_data"
    }
   ],
   "source": [
    "df_supermercado['Avaliacao_Cliente'].value_counts().sort_index().plot(kind='bar', title='Distribuição de Avaliações')"
   ]
  },
  {
   "cell_type": "markdown",
   "id": "894adb25-b2f0-4c84-80b5-4250d4df287b",
   "metadata": {},
   "source": [
    "## Receita por forma de pagamento 💳"
   ]
  },
  {
   "cell_type": "code",
   "execution_count": 43,
   "id": "e4346411-bd17-477d-ac78-6a9b387fa28d",
   "metadata": {},
   "outputs": [
    {
     "data": {
      "text/plain": [
       "Forma_Pagamento\n",
       "Cartão de Crédito    2696.91\n",
       "Dinheiro             2590.93\n",
       "Cartão de Débito     2431.52\n",
       "Name: Total, dtype: float64"
      ]
     },
     "execution_count": 43,
     "metadata": {},
     "output_type": "execute_result"
    }
   ],
   "source": [
    "df_supermercado.groupby('Forma_Pagamento')['Total'].sum().sort_values(ascending=False)"
   ]
  },
  {
   "cell_type": "markdown",
   "id": "59ae32bd-1485-4961-99d4-f5074df65d78",
   "metadata": {},
   "source": [
    "## Produtos com avaliações médias mais altas 🕵️‍♂️"
   ]
  },
  {
   "cell_type": "code",
   "execution_count": 44,
   "id": "1f8de10b-6c8a-43e4-9e97-a5c643c9f79a",
   "metadata": {},
   "outputs": [
    {
     "data": {
      "text/plain": [
       "Produto\n",
       "Água Mineral       9.500000\n",
       "Desinfetante       9.000000\n",
       "Suco               8.666667\n",
       "Papel Higiênico    8.666667\n",
       "Cerveja            8.642857\n",
       "Frutas             8.500000\n",
       "Sabonete           8.500000\n",
       "Panela             8.500000\n",
       "Refrigerante       8.435897\n",
       "Ovo                8.404762\n",
       "Name: Avaliacao_Cliente, dtype: float64"
      ]
     },
     "execution_count": 44,
     "metadata": {},
     "output_type": "execute_result"
    }
   ],
   "source": [
    "df_supermercado.groupby('Produto')['Avaliacao_Cliente'].mean().sort_values(ascending=False).head(10)"
   ]
  },
  {
   "cell_type": "markdown",
   "id": "cb4008b0-6150-49d3-88d0-dd9be3490b9d",
   "metadata": {},
   "source": [
    "## Custo total por categoria 🧾"
   ]
  },
  {
   "cell_type": "code",
   "execution_count": 47,
   "id": "b4ec054b-923d-49e6-8a35-eb20f790b71d",
   "metadata": {},
   "outputs": [
    {
     "data": {
      "text/plain": [
       "Categoria\n",
       "Alimentos            3727.20\n",
       "Bebidas              1242.00\n",
       "Limpeza               768.85\n",
       "Higiene               542.60\n",
       "Eletrônicos           150.00\n",
       "Casa & Utensílios     111.00\n",
       "Name: Custo, dtype: float64"
      ]
     },
     "execution_count": 47,
     "metadata": {},
     "output_type": "execute_result"
    }
   ],
   "source": [
    "df_supermercado.groupby('Categoria')['Custo'].sum().sort_values(ascending=False)"
   ]
  },
  {
   "cell_type": "markdown",
   "id": "7cb42ff3-b92d-4f5a-b180-a21044840f85",
   "metadata": {},
   "source": [
    "## Produtos com baixa venda e baixa avaliação 📉"
   ]
  },
  {
   "cell_type": "code",
   "execution_count": 49,
   "id": "7e619bf2-b073-48ce-8fde-d930967cd8a6",
   "metadata": {},
   "outputs": [
    {
     "data": {
      "text/html": [
       "<div>\n",
       "<style scoped>\n",
       "    .dataframe tbody tr th:only-of-type {\n",
       "        vertical-align: middle;\n",
       "    }\n",
       "\n",
       "    .dataframe tbody tr th {\n",
       "        vertical-align: top;\n",
       "    }\n",
       "\n",
       "    .dataframe thead th {\n",
       "        text-align: right;\n",
       "    }\n",
       "</style>\n",
       "<table border=\"1\" class=\"dataframe\">\n",
       "  <thead>\n",
       "    <tr style=\"text-align: right;\">\n",
       "      <th></th>\n",
       "      <th>Quantidade</th>\n",
       "      <th>Avaliacao_Cliente</th>\n",
       "    </tr>\n",
       "    <tr>\n",
       "      <th>Produto</th>\n",
       "      <th></th>\n",
       "      <th></th>\n",
       "    </tr>\n",
       "  </thead>\n",
       "  <tbody>\n",
       "  </tbody>\n",
       "</table>\n",
       "</div>"
      ],
      "text/plain": [
       "Empty DataFrame\n",
       "Columns: [Quantidade, Avaliacao_Cliente]\n",
       "Index: []"
      ]
     },
     "execution_count": 49,
     "metadata": {},
     "output_type": "execute_result"
    }
   ],
   "source": [
    "produto_analise = df_supermercado.groupby('Produto').agg({\n",
    "    'Quantidade': 'sum',\n",
    "    'Avaliacao_Cliente': 'mean'\n",
    "})\n",
    "produto_analise[(produto_analise['Quantidade'] < 50) & (produto_analise['Avaliacao_Cliente'] < 5)].sort_values(by='Quantidade')"
   ]
  },
  {
   "cell_type": "code",
   "execution_count": 50,
   "id": "94bc2c61-cbb8-4f6e-a383-3e8fe2d39657",
   "metadata": {},
   "outputs": [
    {
     "data": {
      "text/html": [
       "<div>\n",
       "<style scoped>\n",
       "    .dataframe tbody tr th:only-of-type {\n",
       "        vertical-align: middle;\n",
       "    }\n",
       "\n",
       "    .dataframe tbody tr th {\n",
       "        vertical-align: top;\n",
       "    }\n",
       "\n",
       "    .dataframe thead th {\n",
       "        text-align: right;\n",
       "    }\n",
       "</style>\n",
       "<table border=\"1\" class=\"dataframe\">\n",
       "  <thead>\n",
       "    <tr style=\"text-align: right;\">\n",
       "      <th></th>\n",
       "      <th>Quantidade</th>\n",
       "      <th>Avaliacao_Cliente</th>\n",
       "    </tr>\n",
       "    <tr>\n",
       "      <th>Produto</th>\n",
       "      <th></th>\n",
       "      <th></th>\n",
       "    </tr>\n",
       "  </thead>\n",
       "  <tbody>\n",
       "    <tr>\n",
       "      <th>Amaciante</th>\n",
       "      <td>2</td>\n",
       "      <td>6.500000</td>\n",
       "    </tr>\n",
       "    <tr>\n",
       "      <th>Arroz</th>\n",
       "      <td>112</td>\n",
       "      <td>7.869565</td>\n",
       "    </tr>\n",
       "    <tr>\n",
       "      <th>Açúcar</th>\n",
       "      <td>11</td>\n",
       "      <td>7.500000</td>\n",
       "    </tr>\n",
       "    <tr>\n",
       "      <th>Batedeira</th>\n",
       "      <td>1</td>\n",
       "      <td>8.000000</td>\n",
       "    </tr>\n",
       "    <tr>\n",
       "      <th>Café</th>\n",
       "      <td>16</td>\n",
       "      <td>8.375000</td>\n",
       "    </tr>\n",
       "    <tr>\n",
       "      <th>Carne</th>\n",
       "      <td>41</td>\n",
       "      <td>8.294118</td>\n",
       "    </tr>\n",
       "    <tr>\n",
       "      <th>Cerveja</th>\n",
       "      <td>80</td>\n",
       "      <td>8.642857</td>\n",
       "    </tr>\n",
       "    <tr>\n",
       "      <th>Copo</th>\n",
       "      <td>6</td>\n",
       "      <td>8.000000</td>\n",
       "    </tr>\n",
       "    <tr>\n",
       "      <th>Creme Dental</th>\n",
       "      <td>3</td>\n",
       "      <td>8.000000</td>\n",
       "    </tr>\n",
       "    <tr>\n",
       "      <th>Desinfetante</th>\n",
       "      <td>2</td>\n",
       "      <td>9.000000</td>\n",
       "    </tr>\n",
       "    <tr>\n",
       "      <th>Detergente</th>\n",
       "      <td>97</td>\n",
       "      <td>8.333333</td>\n",
       "    </tr>\n",
       "    <tr>\n",
       "      <th>Esponja</th>\n",
       "      <td>7</td>\n",
       "      <td>7.000000</td>\n",
       "    </tr>\n",
       "    <tr>\n",
       "      <th>Feijão</th>\n",
       "      <td>61</td>\n",
       "      <td>8.024390</td>\n",
       "    </tr>\n",
       "    <tr>\n",
       "      <th>Fio Dental</th>\n",
       "      <td>6</td>\n",
       "      <td>8.000000</td>\n",
       "    </tr>\n",
       "    <tr>\n",
       "      <th>Frango</th>\n",
       "      <td>4</td>\n",
       "      <td>8.000000</td>\n",
       "    </tr>\n",
       "    <tr>\n",
       "      <th>Frutas</th>\n",
       "      <td>2</td>\n",
       "      <td>8.500000</td>\n",
       "    </tr>\n",
       "    <tr>\n",
       "      <th>Leite</th>\n",
       "      <td>82</td>\n",
       "      <td>8.384615</td>\n",
       "    </tr>\n",
       "    <tr>\n",
       "      <th>Macarrão</th>\n",
       "      <td>106</td>\n",
       "      <td>8.131579</td>\n",
       "    </tr>\n",
       "    <tr>\n",
       "      <th>Manteiga</th>\n",
       "      <td>1</td>\n",
       "      <td>6.000000</td>\n",
       "    </tr>\n",
       "    <tr>\n",
       "      <th>Ovo</th>\n",
       "      <td>460</td>\n",
       "      <td>8.404762</td>\n",
       "    </tr>\n",
       "    <tr>\n",
       "      <th>Panela</th>\n",
       "      <td>2</td>\n",
       "      <td>8.500000</td>\n",
       "    </tr>\n",
       "    <tr>\n",
       "      <th>Papel Higiênico</th>\n",
       "      <td>4</td>\n",
       "      <td>8.666667</td>\n",
       "    </tr>\n",
       "    <tr>\n",
       "      <th>Pão de Forma</th>\n",
       "      <td>48</td>\n",
       "      <td>8.228571</td>\n",
       "    </tr>\n",
       "    <tr>\n",
       "      <th>Refrigerante</th>\n",
       "      <td>167</td>\n",
       "      <td>8.435897</td>\n",
       "    </tr>\n",
       "    <tr>\n",
       "      <th>Sabonete</th>\n",
       "      <td>76</td>\n",
       "      <td>8.500000</td>\n",
       "    </tr>\n",
       "    <tr>\n",
       "      <th>Sabão em Pó</th>\n",
       "      <td>31</td>\n",
       "      <td>7.900000</td>\n",
       "    </tr>\n",
       "    <tr>\n",
       "      <th>Shampoo</th>\n",
       "      <td>27</td>\n",
       "      <td>8.037037</td>\n",
       "    </tr>\n",
       "    <tr>\n",
       "      <th>Suco</th>\n",
       "      <td>20</td>\n",
       "      <td>8.666667</td>\n",
       "    </tr>\n",
       "    <tr>\n",
       "      <th>Talher</th>\n",
       "      <td>8</td>\n",
       "      <td>7.000000</td>\n",
       "    </tr>\n",
       "    <tr>\n",
       "      <th>Vinagre</th>\n",
       "      <td>2</td>\n",
       "      <td>7.000000</td>\n",
       "    </tr>\n",
       "    <tr>\n",
       "      <th>Vinho</th>\n",
       "      <td>2</td>\n",
       "      <td>8.000000</td>\n",
       "    </tr>\n",
       "    <tr>\n",
       "      <th>Água Mineral</th>\n",
       "      <td>18</td>\n",
       "      <td>9.500000</td>\n",
       "    </tr>\n",
       "  </tbody>\n",
       "</table>\n",
       "</div>"
      ],
      "text/plain": [
       "                 Quantidade  Avaliacao_Cliente\n",
       "Produto                                       \n",
       "Amaciante                 2           6.500000\n",
       "Arroz                   112           7.869565\n",
       "Açúcar                   11           7.500000\n",
       "Batedeira                 1           8.000000\n",
       "Café                     16           8.375000\n",
       "Carne                    41           8.294118\n",
       "Cerveja                  80           8.642857\n",
       "Copo                      6           8.000000\n",
       "Creme Dental              3           8.000000\n",
       "Desinfetante              2           9.000000\n",
       "Detergente               97           8.333333\n",
       "Esponja                   7           7.000000\n",
       "Feijão                   61           8.024390\n",
       "Fio Dental                6           8.000000\n",
       "Frango                    4           8.000000\n",
       "Frutas                    2           8.500000\n",
       "Leite                    82           8.384615\n",
       "Macarrão                106           8.131579\n",
       "Manteiga                  1           6.000000\n",
       "Ovo                     460           8.404762\n",
       "Panela                    2           8.500000\n",
       "Papel Higiênico           4           8.666667\n",
       "Pão de Forma             48           8.228571\n",
       "Refrigerante            167           8.435897\n",
       "Sabonete                 76           8.500000\n",
       "Sabão em Pó              31           7.900000\n",
       "Shampoo                  27           8.037037\n",
       "Suco                     20           8.666667\n",
       "Talher                    8           7.000000\n",
       "Vinagre                   2           7.000000\n",
       "Vinho                     2           8.000000\n",
       "Água Mineral             18           9.500000"
      ]
     },
     "execution_count": 50,
     "metadata": {},
     "output_type": "execute_result"
    }
   ],
   "source": [
    "produto_analise"
   ]
  },
  {
   "cell_type": "markdown",
   "id": "521e9d81-2fe3-4ac4-83bf-c27e9cafb155",
   "metadata": {},
   "source": [
    "## Comparação de receita por tipo de cliente e forma de pagamento 📊"
   ]
  },
  {
   "cell_type": "code",
   "execution_count": 51,
   "id": "7c504752-1b2a-4282-bf12-6238e57a94aa",
   "metadata": {},
   "outputs": [
    {
     "data": {
      "text/html": [
       "<div>\n",
       "<style scoped>\n",
       "    .dataframe tbody tr th:only-of-type {\n",
       "        vertical-align: middle;\n",
       "    }\n",
       "\n",
       "    .dataframe tbody tr th {\n",
       "        vertical-align: top;\n",
       "    }\n",
       "\n",
       "    .dataframe thead th {\n",
       "        text-align: right;\n",
       "    }\n",
       "</style>\n",
       "<table border=\"1\" class=\"dataframe\">\n",
       "  <thead>\n",
       "    <tr style=\"text-align: right;\">\n",
       "      <th>Forma_Pagamento</th>\n",
       "      <th>Cartão de Crédito</th>\n",
       "      <th>Cartão de Débito</th>\n",
       "      <th>Dinheiro</th>\n",
       "    </tr>\n",
       "    <tr>\n",
       "      <th>Tipo_Cliente</th>\n",
       "      <th></th>\n",
       "      <th></th>\n",
       "      <th></th>\n",
       "    </tr>\n",
       "  </thead>\n",
       "  <tbody>\n",
       "    <tr>\n",
       "      <th>Membro</th>\n",
       "      <td>1911.71</td>\n",
       "      <td>577.62</td>\n",
       "      <td>1466.84</td>\n",
       "    </tr>\n",
       "    <tr>\n",
       "      <th>Normal</th>\n",
       "      <td>785.20</td>\n",
       "      <td>1853.90</td>\n",
       "      <td>1124.09</td>\n",
       "    </tr>\n",
       "  </tbody>\n",
       "</table>\n",
       "</div>"
      ],
      "text/plain": [
       "Forma_Pagamento  Cartão de Crédito  Cartão de Débito  Dinheiro\n",
       "Tipo_Cliente                                                  \n",
       "Membro                     1911.71            577.62   1466.84\n",
       "Normal                      785.20           1853.90   1124.09"
      ]
     },
     "execution_count": 51,
     "metadata": {},
     "output_type": "execute_result"
    }
   ],
   "source": [
    "df_supermercado.groupby(['Tipo_Cliente', 'Forma_Pagamento'])['Total'].sum().unstack().fillna(0)"
   ]
  },
  {
   "cell_type": "markdown",
   "id": "0bff59cb-b424-4d80-a3a0-82921161444d",
   "metadata": {},
   "source": [
    "## Adiciona a coluna de valor total "
   ]
  },
  {
   "cell_type": "code",
   "execution_count": 65,
   "id": "31b39178-ffac-498a-b9cb-06971f79decf",
   "metadata": {},
   "outputs": [],
   "source": [
    "# Adiciona a coluna de valor total\n",
    "df_supermercado['Valor_Total'] = df_supermercado['Quantidade'] * df_supermercado['Preco_Unitario']"
   ]
  },
  {
   "cell_type": "code",
   "execution_count": 66,
   "id": "510521cb-1a89-4070-9729-e0f5694f0274",
   "metadata": {},
   "outputs": [
    {
     "data": {
      "text/html": [
       "<div>\n",
       "<style scoped>\n",
       "    .dataframe tbody tr th:only-of-type {\n",
       "        vertical-align: middle;\n",
       "    }\n",
       "\n",
       "    .dataframe tbody tr th {\n",
       "        vertical-align: top;\n",
       "    }\n",
       "\n",
       "    .dataframe thead th {\n",
       "        text-align: right;\n",
       "    }\n",
       "</style>\n",
       "<table border=\"1\" class=\"dataframe\">\n",
       "  <thead>\n",
       "    <tr style=\"text-align: right;\">\n",
       "      <th></th>\n",
       "      <th>ID_Transacao</th>\n",
       "      <th>Data</th>\n",
       "      <th>Hora</th>\n",
       "      <th>Filial</th>\n",
       "      <th>Tipo_Cliente</th>\n",
       "      <th>Forma_Pagamento</th>\n",
       "      <th>Produto</th>\n",
       "      <th>Categoria</th>\n",
       "      <th>Preco_Unitario</th>\n",
       "      <th>Quantidade</th>\n",
       "      <th>Custo</th>\n",
       "      <th>Imposto_ICMS</th>\n",
       "      <th>Total</th>\n",
       "      <th>Avaliacao_Cliente</th>\n",
       "      <th>Hora_Int</th>\n",
       "      <th>Margem_Imposto</th>\n",
       "      <th>valor_total</th>\n",
       "      <th>Valor_Total</th>\n",
       "    </tr>\n",
       "  </thead>\n",
       "  <tbody>\n",
       "    <tr>\n",
       "      <th>0</th>\n",
       "      <td>TR001</td>\n",
       "      <td>01/01/2024</td>\n",
       "      <td>10</td>\n",
       "      <td>São Luís</td>\n",
       "      <td>Normal</td>\n",
       "      <td>Cartão de Débito</td>\n",
       "      <td>Arroz</td>\n",
       "      <td>Alimentos</td>\n",
       "      <td>5.50</td>\n",
       "      <td>2</td>\n",
       "      <td>11.00</td>\n",
       "      <td>1.98</td>\n",
       "      <td>12.98</td>\n",
       "      <td>8</td>\n",
       "      <td>10</td>\n",
       "      <td>0.180000</td>\n",
       "      <td>11.00</td>\n",
       "      <td>11.00</td>\n",
       "    </tr>\n",
       "    <tr>\n",
       "      <th>1</th>\n",
       "      <td>TR002</td>\n",
       "      <td>01/01/2024</td>\n",
       "      <td>11</td>\n",
       "      <td>Imperatriz</td>\n",
       "      <td>Membro</td>\n",
       "      <td>Cartão de Crédito</td>\n",
       "      <td>Sabonete</td>\n",
       "      <td>Higiene</td>\n",
       "      <td>3.25</td>\n",
       "      <td>4</td>\n",
       "      <td>13.00</td>\n",
       "      <td>2.34</td>\n",
       "      <td>15.34</td>\n",
       "      <td>9</td>\n",
       "      <td>11</td>\n",
       "      <td>0.180000</td>\n",
       "      <td>13.00</td>\n",
       "      <td>13.00</td>\n",
       "    </tr>\n",
       "    <tr>\n",
       "      <th>2</th>\n",
       "      <td>TR003</td>\n",
       "      <td>01/01/2024</td>\n",
       "      <td>12</td>\n",
       "      <td>Teresina</td>\n",
       "      <td>Normal</td>\n",
       "      <td>Dinheiro</td>\n",
       "      <td>Cerveja</td>\n",
       "      <td>Bebidas</td>\n",
       "      <td>4.50</td>\n",
       "      <td>6</td>\n",
       "      <td>27.00</td>\n",
       "      <td>4.86</td>\n",
       "      <td>31.86</td>\n",
       "      <td>7</td>\n",
       "      <td>12</td>\n",
       "      <td>0.180000</td>\n",
       "      <td>27.00</td>\n",
       "      <td>27.00</td>\n",
       "    </tr>\n",
       "    <tr>\n",
       "      <th>3</th>\n",
       "      <td>TR004</td>\n",
       "      <td>01/01/2024</td>\n",
       "      <td>13</td>\n",
       "      <td>Belém</td>\n",
       "      <td>Membro</td>\n",
       "      <td>Cartão de Crédito</td>\n",
       "      <td>Detergente</td>\n",
       "      <td>Limpeza</td>\n",
       "      <td>2.75</td>\n",
       "      <td>3</td>\n",
       "      <td>8.25</td>\n",
       "      <td>1.49</td>\n",
       "      <td>9.74</td>\n",
       "      <td>10</td>\n",
       "      <td>13</td>\n",
       "      <td>0.180606</td>\n",
       "      <td>8.25</td>\n",
       "      <td>8.25</td>\n",
       "    </tr>\n",
       "    <tr>\n",
       "      <th>4</th>\n",
       "      <td>TR005</td>\n",
       "      <td>01/01/2024</td>\n",
       "      <td>14</td>\n",
       "      <td>São Luís</td>\n",
       "      <td>Normal</td>\n",
       "      <td>Dinheiro</td>\n",
       "      <td>Leite</td>\n",
       "      <td>Alimentos</td>\n",
       "      <td>4.00</td>\n",
       "      <td>1</td>\n",
       "      <td>4.00</td>\n",
       "      <td>0.72</td>\n",
       "      <td>4.72</td>\n",
       "      <td>6</td>\n",
       "      <td>14</td>\n",
       "      <td>0.180000</td>\n",
       "      <td>4.00</td>\n",
       "      <td>4.00</td>\n",
       "    </tr>\n",
       "    <tr>\n",
       "      <th>5</th>\n",
       "      <td>TR006</td>\n",
       "      <td>01/01/2024</td>\n",
       "      <td>15</td>\n",
       "      <td>Imperatriz</td>\n",
       "      <td>Normal</td>\n",
       "      <td>Cartão de Débito</td>\n",
       "      <td>Shampoo</td>\n",
       "      <td>Higiene</td>\n",
       "      <td>8.50</td>\n",
       "      <td>1</td>\n",
       "      <td>8.50</td>\n",
       "      <td>1.53</td>\n",
       "      <td>10.03</td>\n",
       "      <td>8</td>\n",
       "      <td>15</td>\n",
       "      <td>0.180000</td>\n",
       "      <td>8.50</td>\n",
       "      <td>8.50</td>\n",
       "    </tr>\n",
       "    <tr>\n",
       "      <th>6</th>\n",
       "      <td>TR007</td>\n",
       "      <td>01/01/2024</td>\n",
       "      <td>16</td>\n",
       "      <td>Teresina</td>\n",
       "      <td>Membro</td>\n",
       "      <td>Cartão de Crédito</td>\n",
       "      <td>Refrigerante</td>\n",
       "      <td>Bebidas</td>\n",
       "      <td>3.00</td>\n",
       "      <td>5</td>\n",
       "      <td>15.00</td>\n",
       "      <td>2.70</td>\n",
       "      <td>17.70</td>\n",
       "      <td>9</td>\n",
       "      <td>16</td>\n",
       "      <td>0.180000</td>\n",
       "      <td>15.00</td>\n",
       "      <td>15.00</td>\n",
       "    </tr>\n",
       "    <tr>\n",
       "      <th>7</th>\n",
       "      <td>TR008</td>\n",
       "      <td>01/01/2024</td>\n",
       "      <td>17</td>\n",
       "      <td>Belém</td>\n",
       "      <td>Normal</td>\n",
       "      <td>Dinheiro</td>\n",
       "      <td>Esponja</td>\n",
       "      <td>Limpeza</td>\n",
       "      <td>1.50</td>\n",
       "      <td>2</td>\n",
       "      <td>3.00</td>\n",
       "      <td>0.54</td>\n",
       "      <td>3.54</td>\n",
       "      <td>7</td>\n",
       "      <td>17</td>\n",
       "      <td>0.180000</td>\n",
       "      <td>3.00</td>\n",
       "      <td>3.00</td>\n",
       "    </tr>\n",
       "    <tr>\n",
       "      <th>8</th>\n",
       "      <td>TR009</td>\n",
       "      <td>01/01/2024</td>\n",
       "      <td>18</td>\n",
       "      <td>São Luís</td>\n",
       "      <td>Membro</td>\n",
       "      <td>Cartão de Débito</td>\n",
       "      <td>Macarrão</td>\n",
       "      <td>Alimentos</td>\n",
       "      <td>3.75</td>\n",
       "      <td>3</td>\n",
       "      <td>11.25</td>\n",
       "      <td>2.03</td>\n",
       "      <td>13.28</td>\n",
       "      <td>9</td>\n",
       "      <td>18</td>\n",
       "      <td>0.180444</td>\n",
       "      <td>11.25</td>\n",
       "      <td>11.25</td>\n",
       "    </tr>\n",
       "    <tr>\n",
       "      <th>9</th>\n",
       "      <td>TR010</td>\n",
       "      <td>01/01/2024</td>\n",
       "      <td>19</td>\n",
       "      <td>Imperatriz</td>\n",
       "      <td>Normal</td>\n",
       "      <td>Cartão de Crédito</td>\n",
       "      <td>Pão de Forma</td>\n",
       "      <td>Alimentos</td>\n",
       "      <td>6.00</td>\n",
       "      <td>1</td>\n",
       "      <td>6.00</td>\n",
       "      <td>1.08</td>\n",
       "      <td>7.08</td>\n",
       "      <td>6</td>\n",
       "      <td>19</td>\n",
       "      <td>0.180000</td>\n",
       "      <td>6.00</td>\n",
       "      <td>6.00</td>\n",
       "    </tr>\n",
       "    <tr>\n",
       "      <th>10</th>\n",
       "      <td>TR011</td>\n",
       "      <td>02/01/2024</td>\n",
       "      <td>9</td>\n",
       "      <td>Teresina</td>\n",
       "      <td>Membro</td>\n",
       "      <td>Dinheiro</td>\n",
       "      <td>Feijão</td>\n",
       "      <td>Alimentos</td>\n",
       "      <td>6.20</td>\n",
       "      <td>2</td>\n",
       "      <td>12.40</td>\n",
       "      <td>2.23</td>\n",
       "      <td>14.63</td>\n",
       "      <td>9</td>\n",
       "      <td>9</td>\n",
       "      <td>0.179839</td>\n",
       "      <td>12.40</td>\n",
       "      <td>12.40</td>\n",
       "    </tr>\n",
       "    <tr>\n",
       "      <th>11</th>\n",
       "      <td>TR012</td>\n",
       "      <td>02/01/2024</td>\n",
       "      <td>10</td>\n",
       "      <td>Belém</td>\n",
       "      <td>Normal</td>\n",
       "      <td>Cartão de Débito</td>\n",
       "      <td>Carne</td>\n",
       "      <td>Alimentos</td>\n",
       "      <td>25.00</td>\n",
       "      <td>1</td>\n",
       "      <td>25.00</td>\n",
       "      <td>4.50</td>\n",
       "      <td>29.50</td>\n",
       "      <td>8</td>\n",
       "      <td>10</td>\n",
       "      <td>0.180000</td>\n",
       "      <td>25.00</td>\n",
       "      <td>25.00</td>\n",
       "    </tr>\n",
       "    <tr>\n",
       "      <th>12</th>\n",
       "      <td>TR013</td>\n",
       "      <td>02/01/2024</td>\n",
       "      <td>11</td>\n",
       "      <td>São Luís</td>\n",
       "      <td>Membro</td>\n",
       "      <td>Cartão de Crédito</td>\n",
       "      <td>Água Mineral</td>\n",
       "      <td>Bebidas</td>\n",
       "      <td>2.50</td>\n",
       "      <td>10</td>\n",
       "      <td>25.00</td>\n",
       "      <td>4.50</td>\n",
       "      <td>29.50</td>\n",
       "      <td>10</td>\n",
       "      <td>11</td>\n",
       "      <td>0.180000</td>\n",
       "      <td>25.00</td>\n",
       "      <td>25.00</td>\n",
       "    </tr>\n",
       "    <tr>\n",
       "      <th>13</th>\n",
       "      <td>TR014</td>\n",
       "      <td>02/01/2024</td>\n",
       "      <td>12</td>\n",
       "      <td>Imperatriz</td>\n",
       "      <td>Normal</td>\n",
       "      <td>Dinheiro</td>\n",
       "      <td>Açúcar</td>\n",
       "      <td>Alimentos</td>\n",
       "      <td>3.50</td>\n",
       "      <td>3</td>\n",
       "      <td>10.50</td>\n",
       "      <td>1.89</td>\n",
       "      <td>12.39</td>\n",
       "      <td>7</td>\n",
       "      <td>12</td>\n",
       "      <td>0.180000</td>\n",
       "      <td>10.50</td>\n",
       "      <td>10.50</td>\n",
       "    </tr>\n",
       "    <tr>\n",
       "      <th>14</th>\n",
       "      <td>TR015</td>\n",
       "      <td>02/01/2024</td>\n",
       "      <td>13</td>\n",
       "      <td>Teresina</td>\n",
       "      <td>Normal</td>\n",
       "      <td>Cartão de Débito</td>\n",
       "      <td>Amaciante</td>\n",
       "      <td>Limpeza</td>\n",
       "      <td>7.80</td>\n",
       "      <td>1</td>\n",
       "      <td>7.80</td>\n",
       "      <td>1.40</td>\n",
       "      <td>9.20</td>\n",
       "      <td>6</td>\n",
       "      <td>13</td>\n",
       "      <td>0.179487</td>\n",
       "      <td>7.80</td>\n",
       "      <td>7.80</td>\n",
       "    </tr>\n",
       "    <tr>\n",
       "      <th>15</th>\n",
       "      <td>TR016</td>\n",
       "      <td>02/01/2024</td>\n",
       "      <td>14</td>\n",
       "      <td>Belém</td>\n",
       "      <td>Membro</td>\n",
       "      <td>Cartão de Crédito</td>\n",
       "      <td>Creme Dental</td>\n",
       "      <td>Higiene</td>\n",
       "      <td>4.50</td>\n",
       "      <td>2</td>\n",
       "      <td>9.00</td>\n",
       "      <td>1.62</td>\n",
       "      <td>10.62</td>\n",
       "      <td>9</td>\n",
       "      <td>14</td>\n",
       "      <td>0.180000</td>\n",
       "      <td>9.00</td>\n",
       "      <td>9.00</td>\n",
       "    </tr>\n",
       "  </tbody>\n",
       "</table>\n",
       "</div>"
      ],
      "text/plain": [
       "   ID_Transacao        Data  Hora      Filial Tipo_Cliente    Forma_Pagamento  \\\n",
       "0         TR001  01/01/2024    10    São Luís       Normal   Cartão de Débito   \n",
       "1         TR002  01/01/2024    11  Imperatriz       Membro  Cartão de Crédito   \n",
       "2         TR003  01/01/2024    12    Teresina       Normal           Dinheiro   \n",
       "3         TR004  01/01/2024    13       Belém       Membro  Cartão de Crédito   \n",
       "4         TR005  01/01/2024    14    São Luís       Normal           Dinheiro   \n",
       "5         TR006  01/01/2024    15  Imperatriz       Normal   Cartão de Débito   \n",
       "6         TR007  01/01/2024    16    Teresina       Membro  Cartão de Crédito   \n",
       "7         TR008  01/01/2024    17       Belém       Normal           Dinheiro   \n",
       "8         TR009  01/01/2024    18    São Luís       Membro   Cartão de Débito   \n",
       "9         TR010  01/01/2024    19  Imperatriz       Normal  Cartão de Crédito   \n",
       "10        TR011  02/01/2024     9    Teresina       Membro           Dinheiro   \n",
       "11        TR012  02/01/2024    10       Belém       Normal   Cartão de Débito   \n",
       "12        TR013  02/01/2024    11    São Luís       Membro  Cartão de Crédito   \n",
       "13        TR014  02/01/2024    12  Imperatriz       Normal           Dinheiro   \n",
       "14        TR015  02/01/2024    13    Teresina       Normal   Cartão de Débito   \n",
       "15        TR016  02/01/2024    14       Belém       Membro  Cartão de Crédito   \n",
       "\n",
       "         Produto  Categoria  Preco_Unitario  Quantidade  Custo  Imposto_ICMS  \\\n",
       "0          Arroz  Alimentos            5.50           2  11.00          1.98   \n",
       "1       Sabonete    Higiene            3.25           4  13.00          2.34   \n",
       "2        Cerveja    Bebidas            4.50           6  27.00          4.86   \n",
       "3     Detergente    Limpeza            2.75           3   8.25          1.49   \n",
       "4          Leite  Alimentos            4.00           1   4.00          0.72   \n",
       "5        Shampoo    Higiene            8.50           1   8.50          1.53   \n",
       "6   Refrigerante    Bebidas            3.00           5  15.00          2.70   \n",
       "7        Esponja    Limpeza            1.50           2   3.00          0.54   \n",
       "8       Macarrão  Alimentos            3.75           3  11.25          2.03   \n",
       "9   Pão de Forma  Alimentos            6.00           1   6.00          1.08   \n",
       "10        Feijão  Alimentos            6.20           2  12.40          2.23   \n",
       "11         Carne  Alimentos           25.00           1  25.00          4.50   \n",
       "12  Água Mineral    Bebidas            2.50          10  25.00          4.50   \n",
       "13        Açúcar  Alimentos            3.50           3  10.50          1.89   \n",
       "14     Amaciante    Limpeza            7.80           1   7.80          1.40   \n",
       "15  Creme Dental    Higiene            4.50           2   9.00          1.62   \n",
       "\n",
       "    Total  Avaliacao_Cliente  Hora_Int  Margem_Imposto  valor_total  \\\n",
       "0   12.98                  8        10        0.180000        11.00   \n",
       "1   15.34                  9        11        0.180000        13.00   \n",
       "2   31.86                  7        12        0.180000        27.00   \n",
       "3    9.74                 10        13        0.180606         8.25   \n",
       "4    4.72                  6        14        0.180000         4.00   \n",
       "5   10.03                  8        15        0.180000         8.50   \n",
       "6   17.70                  9        16        0.180000        15.00   \n",
       "7    3.54                  7        17        0.180000         3.00   \n",
       "8   13.28                  9        18        0.180444        11.25   \n",
       "9    7.08                  6        19        0.180000         6.00   \n",
       "10  14.63                  9         9        0.179839        12.40   \n",
       "11  29.50                  8        10        0.180000        25.00   \n",
       "12  29.50                 10        11        0.180000        25.00   \n",
       "13  12.39                  7        12        0.180000        10.50   \n",
       "14   9.20                  6        13        0.179487         7.80   \n",
       "15  10.62                  9        14        0.180000         9.00   \n",
       "\n",
       "    Valor_Total  \n",
       "0         11.00  \n",
       "1         13.00  \n",
       "2         27.00  \n",
       "3          8.25  \n",
       "4          4.00  \n",
       "5          8.50  \n",
       "6         15.00  \n",
       "7          3.00  \n",
       "8         11.25  \n",
       "9          6.00  \n",
       "10        12.40  \n",
       "11        25.00  \n",
       "12        25.00  \n",
       "13        10.50  \n",
       "14         7.80  \n",
       "15         9.00  "
      ]
     },
     "execution_count": 66,
     "metadata": {},
     "output_type": "execute_result"
    }
   ],
   "source": [
    "df_supermercado.head(16)"
   ]
  },
  {
   "cell_type": "markdown",
   "id": "78abb757-4498-4892-bc82-cc8c1e3b3a13",
   "metadata": {},
   "source": [
    "## Calculos por produtos 📦"
   ]
  },
  {
   "cell_type": "code",
   "execution_count": 67,
   "id": "c783e15e-dc16-4011-9e18-c739bcf9712a",
   "metadata": {},
   "outputs": [],
   "source": [
    "# Agrupamento por produto\n",
    "produto_stats = df_supermercado.groupby('Produto').agg({\n",
    "    'Quantidade': 'sum',                # Total de unidades vendidas\n",
    "    'Valor_Total': 'sum',               # Receita bruta por produto\n",
    "    'Avaliacao_Cliente': 'mean',        # Avaliação média\n",
    "    'Imposto_ICMS': 'sum',              # Total de imposto recolhido\n",
    "    'Total': 'sum'                      # Receita final (com imposto)\n",
    "}).sort_values(by='Valor_Total', ascending=False)"
   ]
  },
  {
   "cell_type": "code",
   "execution_count": 68,
   "id": "ef2ef2ec-f3f0-4f94-b158-4559a0b901b3",
   "metadata": {},
   "outputs": [
    {
     "data": {
      "text/html": [
       "<div>\n",
       "<style scoped>\n",
       "    .dataframe tbody tr th:only-of-type {\n",
       "        vertical-align: middle;\n",
       "    }\n",
       "\n",
       "    .dataframe tbody tr th {\n",
       "        vertical-align: top;\n",
       "    }\n",
       "\n",
       "    .dataframe thead th {\n",
       "        text-align: right;\n",
       "    }\n",
       "</style>\n",
       "<table border=\"1\" class=\"dataframe\">\n",
       "  <thead>\n",
       "    <tr style=\"text-align: right;\">\n",
       "      <th></th>\n",
       "      <th>Quantidade</th>\n",
       "      <th>Valor_Total</th>\n",
       "      <th>Avaliacao_Cliente</th>\n",
       "      <th>Imposto_ICMS</th>\n",
       "      <th>Total</th>\n",
       "    </tr>\n",
       "    <tr>\n",
       "      <th>Produto</th>\n",
       "      <th></th>\n",
       "      <th></th>\n",
       "      <th></th>\n",
       "      <th></th>\n",
       "      <th></th>\n",
       "    </tr>\n",
       "  </thead>\n",
       "  <tbody>\n",
       "    <tr>\n",
       "      <th>Carne</th>\n",
       "      <td>41</td>\n",
       "      <td>1025.00</td>\n",
       "      <td>8.294118</td>\n",
       "      <td>184.50</td>\n",
       "      <td>1209.50</td>\n",
       "    </tr>\n",
       "    <tr>\n",
       "      <th>Arroz</th>\n",
       "      <td>112</td>\n",
       "      <td>616.00</td>\n",
       "      <td>7.869565</td>\n",
       "      <td>110.88</td>\n",
       "      <td>726.88</td>\n",
       "    </tr>\n",
       "    <tr>\n",
       "      <th>Ovo</th>\n",
       "      <td>460</td>\n",
       "      <td>552.00</td>\n",
       "      <td>8.404762</td>\n",
       "      <td>99.32</td>\n",
       "      <td>651.32</td>\n",
       "    </tr>\n",
       "    <tr>\n",
       "      <th>Refrigerante</th>\n",
       "      <td>167</td>\n",
       "      <td>501.00</td>\n",
       "      <td>8.435897</td>\n",
       "      <td>90.18</td>\n",
       "      <td>591.18</td>\n",
       "    </tr>\n",
       "    <tr>\n",
       "      <th>Sabão em Pó</th>\n",
       "      <td>31</td>\n",
       "      <td>465.00</td>\n",
       "      <td>7.900000</td>\n",
       "      <td>83.70</td>\n",
       "      <td>548.70</td>\n",
       "    </tr>\n",
       "    <tr>\n",
       "      <th>Macarrão</th>\n",
       "      <td>106</td>\n",
       "      <td>397.50</td>\n",
       "      <td>8.131579</td>\n",
       "      <td>71.66</td>\n",
       "      <td>469.16</td>\n",
       "    </tr>\n",
       "    <tr>\n",
       "      <th>Feijão</th>\n",
       "      <td>61</td>\n",
       "      <td>378.20</td>\n",
       "      <td>8.024390</td>\n",
       "      <td>68.12</td>\n",
       "      <td>446.32</td>\n",
       "    </tr>\n",
       "    <tr>\n",
       "      <th>Cerveja</th>\n",
       "      <td>80</td>\n",
       "      <td>360.00</td>\n",
       "      <td>8.642857</td>\n",
       "      <td>64.80</td>\n",
       "      <td>424.80</td>\n",
       "    </tr>\n",
       "    <tr>\n",
       "      <th>Leite</th>\n",
       "      <td>82</td>\n",
       "      <td>328.00</td>\n",
       "      <td>8.384615</td>\n",
       "      <td>59.04</td>\n",
       "      <td>387.04</td>\n",
       "    </tr>\n",
       "    <tr>\n",
       "      <th>Pão de Forma</th>\n",
       "      <td>48</td>\n",
       "      <td>288.00</td>\n",
       "      <td>8.228571</td>\n",
       "      <td>51.84</td>\n",
       "      <td>339.84</td>\n",
       "    </tr>\n",
       "    <tr>\n",
       "      <th>Detergente</th>\n",
       "      <td>97</td>\n",
       "      <td>266.75</td>\n",
       "      <td>8.333333</td>\n",
       "      <td>48.08</td>\n",
       "      <td>314.83</td>\n",
       "    </tr>\n",
       "    <tr>\n",
       "      <th>Sabonete</th>\n",
       "      <td>76</td>\n",
       "      <td>247.00</td>\n",
       "      <td>8.500000</td>\n",
       "      <td>44.50</td>\n",
       "      <td>291.50</td>\n",
       "    </tr>\n",
       "    <tr>\n",
       "      <th>Shampoo</th>\n",
       "      <td>27</td>\n",
       "      <td>229.50</td>\n",
       "      <td>8.037037</td>\n",
       "      <td>41.31</td>\n",
       "      <td>270.81</td>\n",
       "    </tr>\n",
       "    <tr>\n",
       "      <th>Café</th>\n",
       "      <td>16</td>\n",
       "      <td>200.00</td>\n",
       "      <td>8.375000</td>\n",
       "      <td>36.00</td>\n",
       "      <td>236.00</td>\n",
       "    </tr>\n",
       "    <tr>\n",
       "      <th>Batedeira</th>\n",
       "      <td>1</td>\n",
       "      <td>150.00</td>\n",
       "      <td>8.000000</td>\n",
       "      <td>27.00</td>\n",
       "      <td>177.00</td>\n",
       "    </tr>\n",
       "    <tr>\n",
       "      <th>Suco</th>\n",
       "      <td>20</td>\n",
       "      <td>80.00</td>\n",
       "      <td>8.666667</td>\n",
       "      <td>14.40</td>\n",
       "      <td>94.40</td>\n",
       "    </tr>\n",
       "    <tr>\n",
       "      <th>Frango</th>\n",
       "      <td>4</td>\n",
       "      <td>72.00</td>\n",
       "      <td>8.000000</td>\n",
       "      <td>12.96</td>\n",
       "      <td>84.96</td>\n",
       "    </tr>\n",
       "    <tr>\n",
       "      <th>Panela</th>\n",
       "      <td>2</td>\n",
       "      <td>70.00</td>\n",
       "      <td>8.500000</td>\n",
       "      <td>12.60</td>\n",
       "      <td>82.60</td>\n",
       "    </tr>\n",
       "    <tr>\n",
       "      <th>Vinho</th>\n",
       "      <td>2</td>\n",
       "      <td>56.00</td>\n",
       "      <td>8.000000</td>\n",
       "      <td>10.08</td>\n",
       "      <td>66.08</td>\n",
       "    </tr>\n",
       "    <tr>\n",
       "      <th>Água Mineral</th>\n",
       "      <td>18</td>\n",
       "      <td>45.00</td>\n",
       "      <td>9.500000</td>\n",
       "      <td>8.10</td>\n",
       "      <td>53.10</td>\n",
       "    </tr>\n",
       "    <tr>\n",
       "      <th>Papel Higiênico</th>\n",
       "      <td>4</td>\n",
       "      <td>40.00</td>\n",
       "      <td>8.666667</td>\n",
       "      <td>7.20</td>\n",
       "      <td>47.20</td>\n",
       "    </tr>\n",
       "    <tr>\n",
       "      <th>Açúcar</th>\n",
       "      <td>11</td>\n",
       "      <td>38.50</td>\n",
       "      <td>7.500000</td>\n",
       "      <td>6.93</td>\n",
       "      <td>45.43</td>\n",
       "    </tr>\n",
       "    <tr>\n",
       "      <th>Copo</th>\n",
       "      <td>6</td>\n",
       "      <td>21.00</td>\n",
       "      <td>8.000000</td>\n",
       "      <td>3.78</td>\n",
       "      <td>24.78</td>\n",
       "    </tr>\n",
       "    <tr>\n",
       "      <th>Frutas</th>\n",
       "      <td>2</td>\n",
       "      <td>20.00</td>\n",
       "      <td>8.500000</td>\n",
       "      <td>3.60</td>\n",
       "      <td>23.60</td>\n",
       "    </tr>\n",
       "    <tr>\n",
       "      <th>Talher</th>\n",
       "      <td>8</td>\n",
       "      <td>20.00</td>\n",
       "      <td>7.000000</td>\n",
       "      <td>3.60</td>\n",
       "      <td>23.60</td>\n",
       "    </tr>\n",
       "    <tr>\n",
       "      <th>Amaciante</th>\n",
       "      <td>2</td>\n",
       "      <td>15.60</td>\n",
       "      <td>6.500000</td>\n",
       "      <td>2.80</td>\n",
       "      <td>18.40</td>\n",
       "    </tr>\n",
       "    <tr>\n",
       "      <th>Creme Dental</th>\n",
       "      <td>3</td>\n",
       "      <td>13.50</td>\n",
       "      <td>8.000000</td>\n",
       "      <td>2.43</td>\n",
       "      <td>15.93</td>\n",
       "    </tr>\n",
       "    <tr>\n",
       "      <th>Fio Dental</th>\n",
       "      <td>6</td>\n",
       "      <td>12.60</td>\n",
       "      <td>8.000000</td>\n",
       "      <td>2.27</td>\n",
       "      <td>14.87</td>\n",
       "    </tr>\n",
       "    <tr>\n",
       "      <th>Desinfetante</th>\n",
       "      <td>2</td>\n",
       "      <td>11.00</td>\n",
       "      <td>9.000000</td>\n",
       "      <td>1.98</td>\n",
       "      <td>12.98</td>\n",
       "    </tr>\n",
       "    <tr>\n",
       "      <th>Esponja</th>\n",
       "      <td>7</td>\n",
       "      <td>10.50</td>\n",
       "      <td>7.000000</td>\n",
       "      <td>1.89</td>\n",
       "      <td>12.39</td>\n",
       "    </tr>\n",
       "    <tr>\n",
       "      <th>Manteiga</th>\n",
       "      <td>1</td>\n",
       "      <td>8.00</td>\n",
       "      <td>6.000000</td>\n",
       "      <td>1.44</td>\n",
       "      <td>9.44</td>\n",
       "    </tr>\n",
       "    <tr>\n",
       "      <th>Vinagre</th>\n",
       "      <td>2</td>\n",
       "      <td>4.00</td>\n",
       "      <td>7.000000</td>\n",
       "      <td>0.72</td>\n",
       "      <td>4.72</td>\n",
       "    </tr>\n",
       "  </tbody>\n",
       "</table>\n",
       "</div>"
      ],
      "text/plain": [
       "                 Quantidade  Valor_Total  Avaliacao_Cliente  Imposto_ICMS  \\\n",
       "Produto                                                                     \n",
       "Carne                    41      1025.00           8.294118        184.50   \n",
       "Arroz                   112       616.00           7.869565        110.88   \n",
       "Ovo                     460       552.00           8.404762         99.32   \n",
       "Refrigerante            167       501.00           8.435897         90.18   \n",
       "Sabão em Pó              31       465.00           7.900000         83.70   \n",
       "Macarrão                106       397.50           8.131579         71.66   \n",
       "Feijão                   61       378.20           8.024390         68.12   \n",
       "Cerveja                  80       360.00           8.642857         64.80   \n",
       "Leite                    82       328.00           8.384615         59.04   \n",
       "Pão de Forma             48       288.00           8.228571         51.84   \n",
       "Detergente               97       266.75           8.333333         48.08   \n",
       "Sabonete                 76       247.00           8.500000         44.50   \n",
       "Shampoo                  27       229.50           8.037037         41.31   \n",
       "Café                     16       200.00           8.375000         36.00   \n",
       "Batedeira                 1       150.00           8.000000         27.00   \n",
       "Suco                     20        80.00           8.666667         14.40   \n",
       "Frango                    4        72.00           8.000000         12.96   \n",
       "Panela                    2        70.00           8.500000         12.60   \n",
       "Vinho                     2        56.00           8.000000         10.08   \n",
       "Água Mineral             18        45.00           9.500000          8.10   \n",
       "Papel Higiênico           4        40.00           8.666667          7.20   \n",
       "Açúcar                   11        38.50           7.500000          6.93   \n",
       "Copo                      6        21.00           8.000000          3.78   \n",
       "Frutas                    2        20.00           8.500000          3.60   \n",
       "Talher                    8        20.00           7.000000          3.60   \n",
       "Amaciante                 2        15.60           6.500000          2.80   \n",
       "Creme Dental              3        13.50           8.000000          2.43   \n",
       "Fio Dental                6        12.60           8.000000          2.27   \n",
       "Desinfetante              2        11.00           9.000000          1.98   \n",
       "Esponja                   7        10.50           7.000000          1.89   \n",
       "Manteiga                  1         8.00           6.000000          1.44   \n",
       "Vinagre                   2         4.00           7.000000          0.72   \n",
       "\n",
       "                   Total  \n",
       "Produto                   \n",
       "Carne            1209.50  \n",
       "Arroz             726.88  \n",
       "Ovo               651.32  \n",
       "Refrigerante      591.18  \n",
       "Sabão em Pó       548.70  \n",
       "Macarrão          469.16  \n",
       "Feijão            446.32  \n",
       "Cerveja           424.80  \n",
       "Leite             387.04  \n",
       "Pão de Forma      339.84  \n",
       "Detergente        314.83  \n",
       "Sabonete          291.50  \n",
       "Shampoo           270.81  \n",
       "Café              236.00  \n",
       "Batedeira         177.00  \n",
       "Suco               94.40  \n",
       "Frango             84.96  \n",
       "Panela             82.60  \n",
       "Vinho              66.08  \n",
       "Água Mineral       53.10  \n",
       "Papel Higiênico    47.20  \n",
       "Açúcar             45.43  \n",
       "Copo               24.78  \n",
       "Frutas             23.60  \n",
       "Talher             23.60  \n",
       "Amaciante          18.40  \n",
       "Creme Dental       15.93  \n",
       "Fio Dental         14.87  \n",
       "Desinfetante       12.98  \n",
       "Esponja            12.39  \n",
       "Manteiga            9.44  \n",
       "Vinagre             4.72  "
      ]
     },
     "execution_count": 68,
     "metadata": {},
     "output_type": "execute_result"
    }
   ],
   "source": [
    "produto_stats"
   ]
  },
  {
   "cell_type": "markdown",
   "id": "2a9c0a79-e548-4642-b498-be8a6ee72e94",
   "metadata": {},
   "source": [
    "## Exibir os tops produtos 📊"
   ]
  },
  {
   "cell_type": "code",
   "execution_count": 69,
   "id": "3c85371e-0f5a-4783-a12c-c24115b8b56c",
   "metadata": {},
   "outputs": [
    {
     "name": "stdout",
     "output_type": "stream",
     "text": [
      "              Quantidade  Valor_Total  Avaliacao_Cliente  Imposto_ICMS  \\\n",
      "Produto                                                                  \n",
      "Carne                 41       1025.0           8.294118        184.50   \n",
      "Arroz                112        616.0           7.869565        110.88   \n",
      "Ovo                  460        552.0           8.404762         99.32   \n",
      "Refrigerante         167        501.0           8.435897         90.18   \n",
      "Sabão em Pó           31        465.0           7.900000         83.70   \n",
      "Macarrão             106        397.5           8.131579         71.66   \n",
      "Feijão                61        378.2           8.024390         68.12   \n",
      "Cerveja               80        360.0           8.642857         64.80   \n",
      "Leite                 82        328.0           8.384615         59.04   \n",
      "Pão de Forma          48        288.0           8.228571         51.84   \n",
      "\n",
      "                Total  \n",
      "Produto                \n",
      "Carne         1209.50  \n",
      "Arroz          726.88  \n",
      "Ovo            651.32  \n",
      "Refrigerante   591.18  \n",
      "Sabão em Pó    548.70  \n",
      "Macarrão       469.16  \n",
      "Feijão         446.32  \n",
      "Cerveja        424.80  \n",
      "Leite          387.04  \n",
      "Pão de Forma   339.84  \n"
     ]
    }
   ],
   "source": [
    "# Top 10 produtos mais lucrativos\n",
    "top_produtos = produto_stats.head(10)\n",
    "print(top_produtos)"
   ]
  },
  {
   "cell_type": "markdown",
   "id": "a73c3b8c-b358-463f-be41-24bf21e4b8c8",
   "metadata": {},
   "source": [
    "## Vizualização com gráficos dos 10 top 📈"
   ]
  },
  {
   "cell_type": "code",
   "execution_count": 70,
   "id": "48450b6f-1ba6-4c92-9a2b-37ee2544c2fe",
   "metadata": {},
   "outputs": [
    {
     "data": {
      "image/png": "[encoded data removed]",
      "text/plain": [
       "<Figure size 1000x600 with 1 Axes>"
      ]
     },
     "metadata": {},
     "output_type": "display_data"
    }
   ],
   "source": [
    "import matplotlib.pyplot as plt\n",
    "import seaborn as sns\n",
    "\n",
    "plt.figure(figsize=(10,6))\n",
    "sns.barplot(x=top_produtos['Valor_Total'], y=top_produtos.index, palette='viridis')\n",
    "plt.title(\"Top 10 Produtos por Receita Bruta\")\n",
    "plt.xlabel(\"Valor Total (R$)\")\n",
    "plt.ylabel(\"Produto\")\n",
    "plt.tight_layout()\n",
    "plt.show()"
   ]
  },
  {
   "cell_type": "code",
   "execution_count": null,
   "id": "0303f1c3-7ce5-4761-a4bb-59dac9289bdc",
   "metadata": {},
   "outputs": [],
   "source": []
  },
  {
   "cell_type": "code",
   "execution_count": null,
   "id": "761f08c2-dded-49bf-b937-c3ca0c30645d",
   "metadata": {},
   "outputs": [],
   "source": []
  }
 ],
 "metadata": {
  "kernelspec": {
   "display_name": "Python 3 (ipykernel)",
   "language": "python",
   "name": "python3"
  },
  "language_info": {
   "codemirror_mode": {
    "name": "ipython",
    "version": 3
   },
   "file_extension": ".py",
   "mimetype": "text/x-python",
   "name": "python",
   "nbconvert_exporter": "python",
   "pygments_lexer": "ipython3",
   "version": "3.11.7"
  }
 },
 "nbformat": 4,
 "nbformat_minor": 5
}
